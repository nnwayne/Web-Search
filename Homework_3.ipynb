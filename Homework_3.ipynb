{
 "cells": [
  {
   "cell_type": "markdown",
   "metadata": {},
   "source": [
    "# Homework 3: Language Modelling in Hangman"
   ]
  },
  {
   "cell_type": "markdown",
   "metadata": {
    "collapsed": true
   },
   "source": [
    "Student Name:Wai Yan Wong\n",
    "\n",
    "Student ID:892083"
   ]
  },
  {
   "cell_type": "markdown",
   "metadata": {},
   "source": [
    "## General info"
   ]
  },
  {
   "cell_type": "markdown",
   "metadata": {},
   "source": [
    "<b>Due date</b>:  Friday, 17 May 2019 4pm\n",
    "\n",
    "<b>Submission method</b>: see LMS\n",
    "\n",
    "<b>Submission materials</b>: completed copy of this iPython notebook\n",
    "\n",
    "<b>Late submissions</b>: -20% per day\n",
    "\n",
    "<b>Marks</b>: 7% of mark for class (with 6% on correctness + 1% on quality and efficiency of your code)\n",
    "\n",
    "<b>Materials</b>: See the main class LMS page for information on the basic setup required for this class, including an iPython notebook viewer and the python packages NLTK, Numpy, Scipy, Matplotlib and Scikit-Learn. In particular, if you are not using a lab computer which already has it installed, we recommend installing all the data for NLTK, since you will need various parts of it to complete this assignment. You can also use any Python built-in packages, but do not use any other 3rd party packages; if your iPython notebook doesn't run on the marker's machine, you will lose marks. <b> You should use Python 3</b>. \n",
    "\n",
    "To familiarize yourself with NLTK, here is a free online book:  Steven Bird, Ewan Klein, and Edward Loper (2009). <a href=http://nltk.org/book>Natural Language Processing with Python</a>. O'Reilly Media Inc. You may also consult the <a href=https://www.nltk.org/api/nltk.html>NLTK API</a>.\n",
    "\n",
    "<b>Evaluation</b>: Your iPython notebook should run end-to-end without any errors in a reasonable amount of time, and you must follow all instructions provided below, including specific implementation requirements and instructions for what needs to be printed (please avoid printing output we don't ask for). You should edit the sections below where requested, but leave the rest of the code as is. You should leave the output from running your code in the iPython notebook you submit, to assist with marking. The amount each section is worth is given in parenthesis after the instructions. \n",
    "\n",
    "You will be marked not only on the correctness of your methods, but also the quality and efficency of your code: in particular, you should be careful to use Python built-in functions and operators when appropriate and pick descriptive variable names that adhere to <a href=\"https://www.python.org/dev/peps/pep-0008/\">Python style requirements</a>. If you think it might be unclear what you are doing, you should comment your code to help the marker make sense of it.\n",
    "\n",
    "<b>Updates</b>: Any major changes to the assignment will be announced via LMS. Minor changes and clarifications will be announced in the forum on LMS, we recommend you check the forum regularly.\n",
    "\n",
    "<b>Academic Misconduct</b>: For most people, collaboration will form a natural part of the undertaking of this homework, and we encourge you to discuss it in general terms with other students. However, this ultimately is still an individual task, and so reuse of code or other instances of clear influence will be considered cheating. We will be checking submissions for originality and will invoke the University’s <a href=\"http://academichonesty.unimelb.edu.au/policy.html\">Academic Misconduct policy</a> where inappropriate levels of collusion or plagiarism are deemed to have taken place.\n"
   ]
  },
  {
   "cell_type": "markdown",
   "metadata": {},
   "source": [
    "## Overview"
   ]
  },
  {
   "cell_type": "markdown",
   "metadata": {},
   "source": [
    "## The Hangman Game (*No implementation is needed*)"
   ]
  },
  {
   "cell_type": "markdown",
   "metadata": {},
   "source": [
    "The <a href=\"https://en.wikipedia.org/wiki/Hangman_(game)\">Hangman game</a> is a simple game whereby one person thinks of a word, which they keep secret from their opponent, who tries to guess the word one character at a time. The game ends when the opponent makes more than a fixed number of incorrect guesses, or they figure out the secret word before then (in which case they *win*). \n",
    "\n",
    "Here's a simple version of the game. "
   ]
  },
  {
   "cell_type": "code",
   "execution_count": 1,
   "metadata": {},
   "outputs": [],
   "source": [
    "def hangman(secret_word, guesser, max_mistakes=8, verbose=True, **guesser_args):\n",
    "    \"\"\"\n",
    "        This function plays the hangman game with the provided gusser and returns the number of incorrect guesses. \n",
    "        \n",
    "        secret_word: a string of lower-case alphabetic characters, i.e., the answer to the game\n",
    "        guesser: a function which guesses the next character at each stage in the game\n",
    "            The function takes a:\n",
    "                mask: what is known of the word, as a string with _ denoting an unknown character\n",
    "                guessed: the set of characters which already been guessed in the game\n",
    "                guesser_args: additional (optional) keyword arguments, i.e., name=value\n",
    "        max_mistakes: limit on length of game, in terms of allowed mistakes\n",
    "        verbose: be chatty vs silent\n",
    "        guesser_args: keyword arguments to pass directly to the guesser function\n",
    "    \"\"\"\n",
    "    secret_word = secret_word.lower()\n",
    "    mask = ['_'] * len(secret_word)\n",
    "    guessed = set()\n",
    "    if verbose:\n",
    "        print(\"Starting hangman game. Target is\", ' '.join(mask), 'length', len(secret_word))\n",
    "    \n",
    "    mistakes = 0\n",
    "    while mistakes < max_mistakes:\n",
    "        if verbose:\n",
    "            print(\"You have\", (max_mistakes-mistakes), \"attempts remaining.\")\n",
    "        guess = guesser(mask, guessed, **guesser_args)\n",
    "\n",
    "        if verbose:\n",
    "            print('Guess is', guess)\n",
    "        if guess in guessed:\n",
    "            if verbose:\n",
    "                print('Already guessed this before.')\n",
    "            mistakes += 1\n",
    "        else:\n",
    "            guessed.add(guess)\n",
    "            if guess in secret_word:\n",
    "                for i, c in enumerate(secret_word):\n",
    "                    if c == guess:\n",
    "                        mask[i] = c\n",
    "                if verbose:\n",
    "                    print('Good guess:', ' '.join(mask))\n",
    "            else:\n",
    "                if verbose:\n",
    "                    print('Sorry, try again.')\n",
    "                mistakes += 1\n",
    "                \n",
    "        if '_' not in mask:\n",
    "            if verbose:\n",
    "                print('Congratulations, you won.')\n",
    "            return mistakes\n",
    "        \n",
    "    if verbose:\n",
    "        print('Out of guesses. The word was', secret_word)    \n",
    "    return mistakes"
   ]
  },
  {
   "cell_type": "markdown",
   "metadata": {},
   "source": [
    "Here is a human guesser allowing interactive play."
   ]
  },
  {
   "cell_type": "code",
   "execution_count": 2,
   "metadata": {},
   "outputs": [],
   "source": [
    "def human(mask, guessed, **kwargs):\n",
    "    \"\"\"\n",
    "    This is a simple function for manual play.\n",
    "    \"\"\"\n",
    "    print('Enter your guess:')\n",
    "    return input().lower().strip()"
   ]
  },
  {
   "cell_type": "markdown",
   "metadata": {},
   "source": [
    "If you want to play hangman interactively, please set `interactive` to True. When submitting your solution, set to False so we can automatically run the whole notebook using `Run All`."
   ]
  },
  {
   "cell_type": "code",
   "execution_count": 3,
   "metadata": {},
   "outputs": [],
   "source": [
    "interactive = False"
   ]
  },
  {
   "cell_type": "markdown",
   "metadata": {},
   "source": [
    "<b>For your testing:</b>"
   ]
  },
  {
   "cell_type": "markdown",
   "metadata": {},
   "source": [
    "You can play the game interactively using the following command:"
   ]
  },
  {
   "cell_type": "code",
   "execution_count": null,
   "metadata": {},
   "outputs": [],
   "source": [
    "if interactive:\n",
    "    hangman('whatever', human, 8, True)"
   ]
  },
  {
   "cell_type": "markdown",
   "metadata": {},
   "source": [
    "\n",
    "## 1. Preparing Test Set and Training Set (1 mark)"
   ]
  },
  {
   "cell_type": "markdown",
   "metadata": {
    "collapsed": true
   },
   "source": [
    "<b>Instructions</b>: We will be using the words occurring in the *Brown* corpus for *training* an artificial intelligence guessing algorithm, and for *evaluating* the quality of the algorithm. Note that we are intentionally making the hangman game hard, as the AI will need to cope with test words that it has not seen before, hence it will need to learn generalisable patterns of characters to make reasonable predictions.\n",
    "\n",
    "Your first task is to compute the unique word types occurring in the *Brown* corpus, using `nltk.corpus.Brown` and the `words` method, selecting only words that are entirely comprised of alphabetic characters, and lowercasing the words. Finally, randomly shuffle (`numpy.random.shuffle`) this collection of word types, and split them into disjoint training and testing sets. The test set should contain 1000 word types, and the rest should be in the training set. Your code should print the sizes of the training and test sets.\n",
    "\n",
    "Feel free to test your own Hangman performance using `hangman(numpy.random.choice(test_set), human, 8, True)`. It is surprisingly difficult (and addictive)!\n",
    "\n",
    "(1 mark)"
   ]
  },
  {
   "cell_type": "code",
   "execution_count": 4,
   "metadata": {},
   "outputs": [
    {
     "name": "stdout",
     "output_type": "stream",
     "text": [
      "40234\n",
      "1000\n",
      "39234\n"
     ]
    }
   ],
   "source": [
    "from nltk.corpus import brown\n",
    "import numpy as np\n",
    "\n",
    "np.random.seed(12345)\n",
    "\n",
    "# word_set stores all the unique word types in the Brown corpus\n",
    "word_set = []\n",
    "# test_set stores 1000 word types for testing\n",
    "test_set = []\n",
    "# training_set stores the rest word types for training\n",
    "training_set = []\n",
    "\n",
    "###\n",
    "# Your answer BEGINS HERE\n",
    "###\n",
    "\n",
    "for word in brown.words():\n",
    "    if word.isalpha():\n",
    "        wordlow = word.lower()\n",
    "        if wordlow not in word_set:\n",
    "            word_set.append(wordlow)  \n",
    "\n",
    "np.random.shuffle(word_set)\n",
    "test_set = word_set[:1000]\n",
    "training_set = word_set[1000:]\n",
    "\n",
    "\n",
    "###\n",
    "# Your answer ENDS HERE\n",
    "###\n",
    "\n",
    "print(len(word_set))\n",
    "print(len(test_set))\n",
    "print(len(training_set))"
   ]
  },
  {
   "cell_type": "markdown",
   "metadata": {},
   "source": [
    "<b>For your testing:</b>"
   ]
  },
  {
   "cell_type": "code",
   "execution_count": 5,
   "metadata": {},
   "outputs": [],
   "source": [
    "assert(len(word_set) > 35000 and len(word_set) < 45000)"
   ]
  },
  {
   "cell_type": "code",
   "execution_count": 6,
   "metadata": {},
   "outputs": [],
   "source": [
    "assert(len(test_set) == 1000)"
   ]
  },
  {
   "cell_type": "code",
   "execution_count": 7,
   "metadata": {},
   "outputs": [],
   "source": [
    "assert(len(training_set) + len(test_set) == len(word_set))"
   ]
  },
  {
   "cell_type": "code",
   "execution_count": null,
   "metadata": {},
   "outputs": [],
   "source": [
    "if interactive:\n",
    "    hangman(np.random.choice(test_set), human, 8, True)"
   ]
  },
  {
   "cell_type": "markdown",
   "metadata": {},
   "source": [
    "## 2. Simple Guesser: Random Guessing (1 mark)"
   ]
  },
  {
   "cell_type": "markdown",
   "metadata": {},
   "source": [
    "<b>Instructions</b>: To set a baseline, your first *AI* attempt will be a trivial random method. For this you should implement a guessing method, similar to the `human` method above, i.e., using the same input arguments and returning a character. Your method should randomly choose a character from the range `'a'...'z'` after excluding the characters that have already been guessed in the current game (all subsequent AI approaches should also exclude previous guesses). You might want to use `numpy.random.choice` for this purpose.\n",
    "\n",
    "To help you measure the performance of this (and later) guesser, a `test_guesser` method that takes a guesser and measures the average number of incorrect guesses made over all the words in the `test_set` is provided to you. \n",
    "\n",
    "(1 mark)"
   ]
  },
  {
   "cell_type": "code",
   "execution_count": 5,
   "metadata": {},
   "outputs": [],
   "source": [
    "def test_guesser(guesser, test=test_set):\n",
    "    \"\"\"\n",
    "        This function takes a guesser and measures the average number of incorrect guesses made over all the words in the test_set. \n",
    "    \"\"\"\n",
    "    total = 0\n",
    "    for word in test:\n",
    "        total += hangman(word, guesser, 26, False)\n",
    "    return total / float(len(test))"
   ]
  },
  {
   "cell_type": "code",
   "execution_count": 6,
   "metadata": {},
   "outputs": [
    {
     "name": "stdout",
     "output_type": "stream",
     "text": [
      "Starting hangman game. Target is _ _ _ _ _ _ _ _ _ _ _ _ _ _ length 14\n",
      "You have 10 attempts remaining.\n",
      "Guess is r\n",
      "Good guess: _ _ _ r _ _ _ _ _ _ _ _ _ _\n",
      "You have 10 attempts remaining.\n",
      "Guess is x\n",
      "Sorry, try again.\n",
      "You have 9 attempts remaining.\n",
      "Guess is l\n",
      "Good guess: _ _ _ r _ _ _ _ _ _ _ _ l _\n",
      "You have 9 attempts remaining.\n",
      "Guess is m\n",
      "Sorry, try again.\n",
      "You have 8 attempts remaining.\n",
      "Guess is h\n",
      "Sorry, try again.\n",
      "You have 7 attempts remaining.\n",
      "Guess is u\n",
      "Sorry, try again.\n",
      "You have 6 attempts remaining.\n",
      "Guess is k\n",
      "Sorry, try again.\n",
      "You have 5 attempts remaining.\n",
      "Guess is z\n",
      "Sorry, try again.\n",
      "You have 4 attempts remaining.\n",
      "Guess is d\n",
      "Sorry, try again.\n",
      "You have 3 attempts remaining.\n",
      "Guess is c\n",
      "Good guess: _ _ _ r _ c _ _ _ _ _ _ l _\n",
      "You have 3 attempts remaining.\n",
      "Guess is w\n",
      "Sorry, try again.\n",
      "You have 2 attempts remaining.\n",
      "Guess is v\n",
      "Good guess: _ _ _ r _ c _ _ _ _ v _ l _\n",
      "You have 2 attempts remaining.\n",
      "Guess is q\n",
      "Sorry, try again.\n",
      "You have 1 attempts remaining.\n",
      "Guess is p\n",
      "Good guess: _ p p r _ c _ _ _ _ v _ l _\n",
      "You have 1 attempts remaining.\n",
      "Guess is f\n",
      "Sorry, try again.\n",
      "Out of guesses. The word was appreciatively\n",
      "\n",
      "Average number of incorrect guesses:  16.658\n"
     ]
    }
   ],
   "source": [
    "import string\n",
    "\n",
    "def random_guesser(mask, guessed, **kwargs):\n",
    "    \"\"\"\n",
    "        This function implements a random guesser. It returns the random guess. \n",
    "    \"\"\"\n",
    "    ###\n",
    "    # Your answer BEGINS HERE\n",
    "    ###\n",
    "    \n",
    "    choose_range = []\n",
    "    for i in range(26):\n",
    "        alp = chr(i+ord('a'))\n",
    "        if alp not in guessed:\n",
    "            choose_range.append(alp)\n",
    "    return np.random.choice(choose_range)\n",
    "    \n",
    "    ###\n",
    "    # Your answer ENDS HERE\n",
    "    ###\n",
    "\n",
    "# uncomment to run a single hangman game with output shown (useful for debugging)\n",
    "hangman(np.random.choice(test_set), random_guesser, 10, True)\n",
    "\n",
    "result = test_guesser(random_guesser)\n",
    "print()\n",
    "print(\"Average number of incorrect guesses: \", result)"
   ]
  },
  {
   "cell_type": "markdown",
   "metadata": {},
   "source": [
    "<b>For your testing:</b>"
   ]
  },
  {
   "cell_type": "code",
   "execution_count": 7,
   "metadata": {},
   "outputs": [],
   "source": [
    "assert(result > 10 and result < 20)"
   ]
  },
  {
   "cell_type": "markdown",
   "metadata": {},
   "source": [
    "## 3. Your First AI Guesser: Unigram Guesser (1 mark)"
   ]
  },
  {
   "cell_type": "markdown",
   "metadata": {},
   "source": [
    "**Instructions:** As your first real AI, you should train a *unigram* model over the training set.  This requires you to find the frequencies of characters over all training words. Using this model, you should write a guesser that returns the character with the highest probability. Remember to exclude already guessed characters. \n",
    "\n",
    "Hint: It should be much lower than random guessing.\n",
    "\n",
    "(1 mark)"
   ]
  },
  {
   "cell_type": "code",
   "execution_count": 8,
   "metadata": {},
   "outputs": [
    {
     "name": "stdout",
     "output_type": "stream",
     "text": [
      "Counter({'e': 35195, 'i': 26042, 'a': 24344, 's': 23736, 'n': 22553, 'r': 22113, 't': 20658, 'o': 19144, 'l': 16678, 'c': 12615, 'd': 12249, 'u': 10198, 'm': 8687, 'g': 8604, 'p': 8559, 'h': 7345, 'b': 5743, 'y': 5353, 'f': 4220, 'v': 3439, 'k': 2983, 'w': 2786, 'z': 1026, 'x': 829, 'j': 639, 'q': 535})\n",
      "\n",
      "Average number of incorrect guesses:  10.308\n"
     ]
    }
   ],
   "source": [
    "from collections import Counter\n",
    "\n",
    "# unigram_counts stores the frequencies of characters over all training words\n",
    "unigram_counts = Counter()\n",
    "\n",
    "###\n",
    "# Your answer BEGINS HERE\n",
    "###\n",
    "\n",
    "for word in training_set:\n",
    "    for i in range(len(word)):\n",
    "        unigram_counts[word[i]] += 1\n",
    "\n",
    "###\n",
    "# Your answer ENDS HERE\n",
    "###\n",
    "\n",
    "print(unigram_counts)\n",
    "\n",
    "def unigram_guesser(mask, guessed, unigram_counts=unigram_counts):\n",
    "    \"\"\"\n",
    "        This function implements a unigram guesser. It returns a guess based on the unigram model. \n",
    "    \"\"\"\n",
    "    ###\n",
    "    # Your answer BEGINS HERE\n",
    "    ###\n",
    "\n",
    "    choose_range = []\n",
    "    for i in range(26):\n",
    "        alp = chr(i+ord('a'))\n",
    "        if alp not in guessed:\n",
    "            choose_range.append(alp)\n",
    "            \n",
    "    total = float(sum(unigram_counts.values()))\n",
    "    alp_pro = {}\n",
    "    for alp in choose_range:\n",
    "        alp_pro[alp] = unigram_counts[alp]/total  \n",
    "        \n",
    "    if alp_pro:\n",
    "        return max(alp_pro,key=alp_pro.get)\n",
    "    else:\n",
    "        return random_guesser(mask, guessed)\n",
    "\n",
    "    ###\n",
    "    # Your answer ENDS HERE\n",
    "    ###\n",
    "\n",
    "#hangman(np.random.choice(test_set), unigram_guesser, 10, True)\n",
    "\n",
    "result = test_guesser(unigram_guesser)\n",
    "print()\n",
    "print(\"Average number of incorrect guesses: \", result)"
   ]
  },
  {
   "cell_type": "markdown",
   "metadata": {},
   "source": [
    "<b>For your testing:</b>"
   ]
  },
  {
   "cell_type": "code",
   "execution_count": 9,
   "metadata": {},
   "outputs": [],
   "source": [
    "assert(result > 5 and result < 15)"
   ]
  },
  {
   "cell_type": "markdown",
   "metadata": {},
   "source": [
    "## 4. Your Second AI Guesser: Length-based Unigram Guesser (1 mark)"
   ]
  },
  {
   "cell_type": "markdown",
   "metadata": {},
   "source": [
    "**Instructions:** The length of the secret word is an important clue that we might exploit. Different length words tend to have different distributions over characters, e.g., short words are less likely to have suffixes or prefixes. You should incorporate this idea by conditioning the unigram model on the length of the secret word, i.e., having a *different* unigram model for each length of the words. You will need to be a little careful at test time, to be robust to the (unlikely) situation that you encounter a word length that you didn't see in training. You need to decide on how to handle this situation.\n",
    "\n",
    "(1 mark)"
   ]
  },
  {
   "cell_type": "code",
   "execution_count": 10,
   "metadata": {
    "scrolled": true
   },
   "outputs": [
    {
     "name": "stdout",
     "output_type": "stream",
     "text": [
      "[1, 2, 3, 4, 5, 6, 7, 8, 9, 10, 11, 12, 13, 14, 15, 16, 17, 18, 19, 20, 21, 22]\n",
      "\n",
      "defaultdict(<class 'collections.Counter'>, {6: Counter({'e': 4246, 'a': 2672, 's': 2598, 'r': 2537, 'i': 2038, 'n': 1984, 'o': 1969, 'l': 1948, 't': 1849, 'd': 1630, 'u': 1147, 'c': 1066, 'm': 937, 'g': 883, 'h': 870, 'p': 853, 'b': 780, 'y': 705, 'f': 497, 'k': 452, 'w': 426, 'v': 391, 'z': 123, 'j': 102, 'x': 91, 'q': 50}), 5: Counter({'e': 2220, 's': 1843, 'a': 1833, 'r': 1371, 'o': 1332, 'l': 1215, 'i': 1157, 't': 1097, 'n': 1034, 'd': 764, 'c': 705, 'u': 680, 'h': 589, 'm': 577, 'y': 542, 'p': 535, 'b': 507, 'g': 465, 'k': 382, 'f': 342, 'w': 300, 'v': 238, 'z': 86, 'j': 77, 'x': 64, 'q': 30}), 7: Counter({'e': 5320, 'a': 3568, 's': 3462, 'r': 3433, 'i': 3340, 'n': 3036, 't': 2664, 'o': 2508, 'l': 2491, 'd': 2061, 'c': 1680, 'u': 1508, 'g': 1490, 'm': 1241, 'p': 1237, 'h': 1097, 'b': 945, 'y': 749, 'f': 675, 'k': 582, 'w': 517, 'v': 462, 'z': 156, 'x': 112, 'j': 96, 'q': 83}), 13: Counter({'i': 1283, 'e': 1049, 'n': 1026, 't': 971, 'a': 902, 'o': 841, 's': 797, 'r': 748, 'c': 570, 'l': 542, 'p': 363, 'm': 349, 'u': 336, 'd': 259, 'g': 244, 'y': 207, 'h': 199, 'b': 139, 'v': 118, 'f': 117, 'x': 35, 'z': 34, 'k': 26, 'w': 22, 'q': 19, 'j': 10}), 9: Counter({'e': 5433, 'i': 3928, 's': 3464, 'n': 3458, 'a': 3454, 'r': 3261, 't': 3066, 'o': 2617, 'l': 2343, 'c': 1914, 'd': 1859, 'u': 1446, 'g': 1364, 'm': 1243, 'p': 1152, 'h': 1031, 'b': 769, 'y': 655, 'f': 584, 'v': 536, 'k': 374, 'w': 371, 'z': 136, 'x': 123, 'q': 88, 'j': 70}), 10: Counter({'e': 4340, 'i': 3641, 'n': 3086, 's': 2911, 't': 2812, 'a': 2784, 'r': 2672, 'o': 2387, 'l': 1940, 'c': 1672, 'd': 1398, 'u': 1294, 'g': 1093, 'p': 1085, 'm': 1061, 'h': 824, 'b': 613, 'y': 558, 'f': 460, 'v': 447, 'w': 211, 'k': 179, 'z': 113, 'x': 97, 'q': 68, 'j': 54}), 8: Counter({'e': 5590, 'i': 3893, 's': 3670, 'a': 3658, 'n': 3485, 'r': 3480, 't': 2898, 'o': 2764, 'l': 2597, 'd': 2215, 'c': 1935, 'u': 1567, 'g': 1518, 'm': 1300, 'p': 1226, 'h': 1168, 'b': 846, 'f': 712, 'y': 706, 'v': 539, 'k': 511, 'w': 478, 'z': 111, 'x': 108, 'j': 85, 'q': 84}), 11: Counter({'e': 2957, 'i': 2764, 'n': 2273, 't': 2160, 'a': 2010, 's': 2005, 'r': 1929, 'o': 1704, 'l': 1324, 'c': 1230, 'u': 868, 'd': 806, 'p': 780, 'm': 739, 'g': 640, 'h': 522, 'b': 419, 'y': 412, 'f': 294, 'v': 286, 'k': 131, 'w': 121, 'x': 72, 'z': 69, 'q': 45, 'j': 27}), 12: Counter({'e': 1885, 'i': 1882, 'n': 1527, 't': 1460, 'a': 1417, 's': 1306, 'r': 1259, 'o': 1219, 'l': 958, 'c': 900, 'u': 582, 'p': 552, 'm': 509, 'd': 498, 'g': 391, 'h': 388, 'y': 298, 'b': 255, 'f': 199, 'v': 199, 'z': 69, 'k': 54, 'w': 52, 'x': 38, 'q': 37, 'j': 18}), 4: Counter({'e': 897, 'a': 863, 's': 695, 'o': 683, 'l': 559, 'i': 537, 'r': 518, 't': 480, 'n': 471, 'd': 360, 'u': 345, 'm': 299, 'h': 290, 'p': 280, 'c': 257, 'b': 256, 'k': 227, 'g': 223, 'w': 193, 'y': 179, 'f': 171, 'v': 98, 'j': 61, 'z': 43, 'x': 35, 'q': 8}), 3: Counter({'a': 236, 'e': 198, 'o': 177, 'i': 131, 'n': 117, 't': 112, 's': 112, 'p': 105, 'd': 100, 'u': 100, 'm': 100, 'r': 96, 'b': 92, 'l': 80, 'h': 78, 'y': 76, 'g': 75, 'w': 71, 'c': 69, 'f': 53, 'k': 32, 'j': 28, 'v': 25, 'x': 22, 'z': 10, 'q': 6}), 2: Counter({'a': 24, 'e': 20, 'm': 19, 'o': 18, 'i': 16, 's': 16, 'l': 13, 'p': 12, 'h': 11, 'd': 11, 'c': 11, 'u': 11, 't': 11, 'f': 10, 'n': 10, 'b': 9, 'r': 8, 'v': 7, 'g': 6, 'w': 6, 'y': 5, 'j': 5, 'k': 5, 'x': 3, 'q': 2, 'z': 1}), 14: Counter({'i': 708, 'e': 570, 'n': 545, 't': 527, 'a': 465, 's': 465, 'o': 459, 'r': 399, 'l': 335, 'c': 302, 'p': 178, 'u': 174, 'm': 164, 'd': 149, 'h': 130, 'y': 117, 'g': 117, 'b': 69, 'v': 63, 'f': 60, 'z': 35, 'x': 13, 'k': 11, 'w': 10, 'q': 8, 'j': 3}), 15: Counter({'i': 395, 't': 278, 'n': 274, 'o': 249, 'e': 245, 'a': 233, 's': 211, 'r': 200, 'c': 168, 'l': 168, 'p': 110, 'y': 79, 'm': 74, 'u': 74, 'd': 72, 'h': 69, 'g': 52, 'f': 25, 'b': 24, 'v': 18, 'z': 16, 'x': 8, 'k': 8, 'w': 5, 'q': 4, 'j': 1}), 18: Counter({'i': 48, 't': 44, 'e': 37, 's': 35, 'r': 34, 'o': 33, 'n': 29, 'a': 25, 'c': 24, 'l': 23, 'p': 14, 'h': 13, 'd': 12, 'y': 10, 'm': 9, 'u': 8, 'g': 6, 'f': 4, 'b': 2, 'k': 2, 'z': 1, 'v': 1}), 16: Counter({'i': 162, 't': 127, 'a': 109, 'n': 108, 'e': 102, 'o': 97, 'r': 91, 's': 87, 'l': 84, 'c': 61, 'p': 43, 'h': 34, 'm': 33, 'y': 31, 'u': 31, 'd': 27, 'g': 20, 'b': 11, 'f': 10, 'z': 9, 'v': 6, 'x': 6, 'k': 4, 'q': 2, 'w': 1}), 1: Counter({'v': 1, 'z': 1, 'x': 1, 'j': 1, 'd': 1, 'h': 1, 'm': 1, 'g': 1, 'p': 1, 'w': 1, 'y': 1, 't': 1, 'n': 1, 'u': 1, 'q': 1, 'c': 1, 'a': 1, 'l': 1, 'i': 1, 'r': 1, 'b': 1, 'f': 1, 'k': 1, 's': 1, 'o': 1}), 17: Counter({'i': 95, 't': 82, 'a': 72, 'e': 71, 'n': 68, 'r': 64, 'o': 59, 's': 45, 'l': 43, 'c': 39, 'p': 27, 'h': 26, 'm': 26, 'd': 24, 'y': 20, 'u': 18, 'g': 12, 'z': 9, 'b': 5, 'v': 4, 'f': 3, 'w': 1, 'x': 1, 'k': 1, 'j': 1}), 19: Counter({'o': 18, 'i': 15, 'n': 14, 't': 13, 'a': 11, 'r': 9, 'e': 8, 'l': 7, 'c': 7, 's': 7, 'u': 5, 'g': 3, 'p': 3, 'd': 3, 'm': 3, 'h': 2, 'z': 2, 'f': 2, 'y': 1}), 21: Counter({'o': 6, 'c': 4, 'i': 3, 'm': 3, 'e': 3, 'l': 3, 'r': 3, 'p': 3, 'h': 3, 's': 3, 'a': 3, 'u': 1, 'n': 1, 't': 1, 'y': 1, 'g': 1}), 20: Counter({'i': 5, 't': 4, 'n': 3, 'o': 2, 'a': 2, 's': 1, 'u': 1, 'l': 1, 'z': 1}), 22: Counter({'e': 4, 'l': 3, 'n': 3, 'a': 2, 's': 2, 'k': 1, 'y': 1, 'b': 1, 'z': 1, 'u': 1, 'f': 1, 'o': 1, 't': 1})})\n",
      "\n",
      "Average number of incorrect guesses:  10.323\n"
     ]
    }
   ],
   "source": [
    "from collections import defaultdict\n",
    "\n",
    "# unigram_counts_by_length stores a dictionary, mapping word length to the frequencies of characters of words with that word length\n",
    "unigram_counts_by_length = defaultdict(Counter)\n",
    "\n",
    "###\n",
    "# Your answer BEGINS HERE\n",
    "###\n",
    "\n",
    "for word in training_set:\n",
    "    counts = unigram_counts_by_length[len(word)]\n",
    "    for i in range(len(word)):\n",
    "        counts[word[i]] += 1\n",
    "    unigram_counts_by_length[len(word)] = counts\n",
    "\n",
    "###\n",
    "# Your answer ENDS HERE\n",
    "###\n",
    "\n",
    "lengths = sorted(unigram_counts_by_length.keys())\n",
    "max_length = lengths[-1] + 1\n",
    "print(lengths)\n",
    "print()\n",
    "print(unigram_counts_by_length)\n",
    "\n",
    "def unigram_length_guesser(mask, guessed, counts=unigram_counts_by_length):\n",
    "    \"\"\"\n",
    "        This function implements a length-based unigram guesser. It returns a guess based on the length-based unigram model. \n",
    "    \"\"\"\n",
    "    ###\n",
    "    # Your answer BEGINS HERE\n",
    "    ###\n",
    "    \n",
    "    choose_range = []\n",
    "    for i in range(26):\n",
    "        alp = chr(i+ord('a'))\n",
    "        if alp not in guessed:\n",
    "            choose_range.append(alp)\n",
    "    \n",
    "    if len(mask) not in lengths:\n",
    "        return unigram_guesser(mask, guessed, unigram_counts=unigram_counts)\n",
    "    else:\n",
    "        current_counts = counts[len(mask)]\n",
    "        \n",
    "    total = float(sum(current_counts.values()))\n",
    "    alp_pro = {}\n",
    "    for alp in choose_range:\n",
    "        alp_pro[alp] = current_counts[alp]/total\n",
    "    \n",
    "    if alp_pro:\n",
    "        return max(alp_pro,key=alp_pro.get)\n",
    "    else:\n",
    "        return unigram_guesser(mask, guessed, unigram_counts=unigram_counts)\n",
    "    \n",
    "    ###\n",
    "    # Your answer ENDS HERE\n",
    "    ###\n",
    "\n",
    "#hangman(np.random.choice(test_set), unigram_length_guesser, 10, True)\n",
    "\n",
    "result = test_guesser(unigram_length_guesser)\n",
    "print()\n",
    "print(\"Average number of incorrect guesses: \", result)"
   ]
  },
  {
   "cell_type": "markdown",
   "metadata": {},
   "source": [
    "<b>For your testing:</b>"
   ]
  },
  {
   "cell_type": "code",
   "execution_count": 11,
   "metadata": {},
   "outputs": [],
   "source": [
    "assert(result > 5 and result < 15)"
   ]
  },
  {
   "cell_type": "markdown",
   "metadata": {},
   "source": [
    "## 5. Your Third AI Guesser: Bigram Guesser (1 mark)"
   ]
  },
  {
   "cell_type": "markdown",
   "metadata": {},
   "source": [
    "**Instructions:** Now for the next challenge, using a *bigram* language model over characters. The order of characters is obviously important, yet this wasn't incorporated in any of the above models. Knowing that the word has the sequence `n _ s s` is a pretty strong clue that the missing character might be `e`. Similarly the distribution over characters that start or end a word are highly biased (e.g., toward common prefixes and suffixes, like *un-*, *-ed* and *-ly*).\n",
    "\n",
    "You should develop a *bigram* language model over characters, train this over the training words (being careful to handle the start of each word properly, e.g., by padding with a sentinel symbol `$`.) You should use *linear interpolation* to smooth between the higher order and lower order models, and you will have to decide how to weight each component (be reminded that all probabilities should sum to 1).\n",
    "\n",
    "Your bigram guesser should apply your language model to each blank position in the secret word by using the left context as is known. E.g., in the partial word `$ _ e c _ e _ _` we know the left context for the first three blanks, but have no known left context for the last blank. Using a bigram language model, we are able to apply it to the first three blanks only. You should then select the character with the highest probability of predicting the most number of correct entries over the blanks. \n",
    "\n",
    "Do you see any improvement over the unigram guessers above?\n",
    "\n",
    "(1 mark)"
   ]
  },
  {
   "cell_type": "code",
   "execution_count": 14,
   "metadata": {},
   "outputs": [
    {
     "name": "stdout",
     "output_type": "stream",
     "text": [
      "\n",
      "Average number of incorrect guesses:  9.95\n"
     ]
    }
   ],
   "source": [
    "###\n",
    "# Your answer BEGINS HERE\n",
    "###\n",
    "\n",
    "bigram_counts = None # you will want a different data structure to store the bigram \n",
    "bigram_counts = defaultdict(Counter)\n",
    "# key of the dict is the pre-letter\n",
    "# calculate the probility for all letters\n",
    "for word in training_set:\n",
    "    newword = '$'+word\n",
    "    for i in range(len(word)):\n",
    "        bigram_counts[newword[i]][word[i]] += 1\n",
    "        \n",
    "bigram_lambda = 0.8\n",
    "unigram_lambda = 1 - bigram_lambda\n",
    "uni_total = float(sum(unigram_counts.values()))\n",
    "\n",
    "bigram_prob = defaultdict(Counter)\n",
    "for pre_alp in bigram_counts:\n",
    "    if pre_alp == '$': \n",
    "        bi_total = float(sum(bigram_counts[pre_alp].values()))\n",
    "    else: bi_total = float(unigram_counts[pre_alp])\n",
    "                    \n",
    "    for alp in bigram_counts[pre_alp]:\n",
    "        prob_bigram = bigram_counts[pre_alp][alp]/bi_total*bigram_lambda\n",
    "        prob_unigram = unigram_lambda*unigram_counts[alp]/uni_total\n",
    "        bigram_prob[pre_alp][alp] = prob_bigram+prob_unigram\n",
    "\n",
    "###\n",
    "# Your answer ENDS HERE\n",
    "###\n",
    "\n",
    "def bigram_guesser(mask, guessed, counts=bigram_counts): # add extra default arguments if needed\n",
    "    \"\"\"\n",
    "        This function implements a bigram guesser. It returns a guess based on the bigram model using linear interpolation.\n",
    "    \"\"\"\n",
    "    ###\n",
    "    # Your answer BEGINS HERE\n",
    "    ###\n",
    "    \n",
    "    mask.insert(0,'$') \n",
    "    next_prob = Counter()\n",
    "    for i in range(1,len(mask)):\n",
    "        cur_alp = mask[i]\n",
    "        pre_alp = mask[i-1]\n",
    "        if cur_alp == '_':\n",
    "            if pre_alp != '_':\n",
    "                prob_cur_alp = Counter()\n",
    "                for key,value in bigram_prob[pre_alp].most_common(len(bigram_prob[pre_alp])):\n",
    "                    # start the loop in decreasing order of prob\n",
    "                    # keep checking until the key is not in guessed\n",
    "                    if key not in guessed:\n",
    "                        prob_cur_alp[key] = value\n",
    "                        break\n",
    "                        \n",
    "                # compare the highest probs among all the eligible blanks and choose the key with highest prob\n",
    "                if prob_cur_alp:\n",
    "                    key = max(prob_cur_alp, key=prob_cur_alp.get)\n",
    "                    next_prob[key] = max(prob_cur_alp[key],next_prob[key])\n",
    "                \n",
    "    mask.remove('$')\n",
    "    if next_prob:\n",
    "        return(max(next_prob, key=next_prob.get))\n",
    "    else:\n",
    "        return unigram_length_guesser(mask, guessed, counts=unigram_counts_by_length)\n",
    "      \n",
    "    ###\n",
    "    # Your answer ENDS HERE\n",
    "    ###\n",
    "\n",
    "#hangman(np.random.choice(test_set), bigram_guesser, 10, True)\n",
    "\n",
    "result = test_guesser(bigram_guesser)\n",
    "print()\n",
    "print(\"Average number of incorrect guesses: \", result)"
   ]
  },
  {
   "cell_type": "markdown",
   "metadata": {},
   "source": [
    "<b>For your testing:</b>"
   ]
  },
  {
   "cell_type": "code",
   "execution_count": 16,
   "metadata": {},
   "outputs": [],
   "source": [
    "assert(result < 13)"
   ]
  },
  {
   "cell_type": "markdown",
   "metadata": {},
   "source": [
    "## 6. Your Own AI Guesser (1 mark)"
   ]
  },
  {
   "cell_type": "markdown",
   "metadata": {},
   "source": [
    "**Instructions:** You should try to develop a more effective AI, `my_ai_guesser`, for hangman. Feel free to engage your creativity here! Possibilities include better conditioning on the length of the word, fancier smoothing methods, and using ngram models. Ensure you report the test performance of your guesser. Have fun!\n",
    "\n",
    "You will be marked based on the explanation of your approach and its accuracy. \n",
    "\n",
    "(1 mark) "
   ]
  },
  {
   "cell_type": "code",
   "execution_count": 17,
   "metadata": {},
   "outputs": [
    {
     "name": "stdout",
     "output_type": "stream",
     "text": [
      "\n",
      "Average number of incorrect guesses:  8.925\n"
     ]
    }
   ],
   "source": [
    "###\n",
    "# Your answer BEGINS HERE\n",
    "###\n",
    "\n",
    "# calculate length-based bigram probilities\n",
    "# and length-based unigram probilities\n",
    "bigram_counts_by_length = defaultdict(lambda: defaultdict(Counter))\n",
    "\n",
    "for word in training_set:\n",
    "    cword_dict = bigram_counts_by_length[len(word)]\n",
    "    newword = '$'+word\n",
    "    for i in range(len(word)):\n",
    "        cword_dict[newword[i]][word[i]] += 1\n",
    "    bigram_counts_by_length[len(word)] = cword_dict\n",
    "\n",
    "\n",
    "bi_len_single_count = defaultdict(Counter)\n",
    "for wordlength in bigram_counts_by_length.keys():\n",
    "    for pre_alp in bigram_counts_by_length[wordlength]:\n",
    "        for alp in bigram_counts_by_length[wordlength][pre_alp]:\n",
    "            bi_len_single_count[wordlength][alp] += 1;\n",
    "            \n",
    "bigram_length_prob = defaultdict(lambda: defaultdict(Counter))      \n",
    "    \n",
    "for wordlength in bigram_counts_by_length.keys():\n",
    "    for pre_alp in bigram_counts_by_length[wordlength]:\n",
    "        if pre_alp == '$':  bi_total = float(sum(bigram_counts_by_length[wordlength][pre_alp].values()))\n",
    "        else: bi_total = float(bi_len_single_count[wordlength][pre_alp])\n",
    "                    \n",
    "        for alp in bigram_counts_by_length[wordlength][pre_alp]:\n",
    "            prob_bigram = bigram_counts_by_length[wordlength][pre_alp][alp]/bi_total*bigram_lambda\n",
    "            prob_unigram = unigram_lambda*unigram_counts[alp]/uni_total\n",
    "            bigram_length_prob[wordlength][pre_alp][alp] = prob_bigram+prob_unigram\n",
    "        \n",
    "bi_lengths = sorted(bigram_counts_by_length.keys())\n",
    "\n",
    "unigram_length_prob = defaultdict(Counter)\n",
    "for length in unigram_counts_by_length:\n",
    "    for alp in unigram_counts_by_length[length]:\n",
    "        unigram_length_prob[length][alp] = unigram_counts_by_length[length][alp]/uni_total\n",
    "\n",
    "        \n",
    "def my_ai_guesser(mask, guessed, counts=bigram_counts_by_length):\n",
    "    \n",
    "    if len(mask) not in bi_lengths:\n",
    "        return bigram_guesser(mask, guessed, counts=bigram_counts)\n",
    "    else:\n",
    "        wordlength = len(mask)\n",
    "        mask.insert(0,'$') \n",
    "        next_prob = Counter()\n",
    "        for i in range(1,len(mask)):\n",
    "            cur_alp = mask[i]\n",
    "            pre_alp = mask[i-1] \n",
    "            prob_cur_alp = Counter()\n",
    "            if cur_alp == '_':\n",
    "                if pre_alp != '_':\n",
    "                    corres_prob = bigram_length_prob[wordlength][pre_alp]\n",
    "                    for alp in corres_prob:\n",
    "                        if alp not in guessed:\n",
    "                            # sum the prob of same letters in different blanks\n",
    "                            next_prob[alp] += corres_prob[alp]\n",
    "                else:\n",
    "                    # apply length-based unigram model when the pre-letter is a blank\n",
    "                    corres_prob = unigram_length_prob[wordlength]\n",
    "                    for alp in corres_prob:\n",
    "                        if alp not in guessed:\n",
    "                            next_prob[alp] += corres_prob[alp]\n",
    "        \n",
    "        mask.remove('$')\n",
    "        if next_prob:\n",
    "            # choose the letter with highest prob among all letters\n",
    "            for key,value in next_prob.most_common(len(next_prob)):\n",
    "                return key\n",
    "        else:\n",
    "            return bigram_guesser(mask, guessed, counts=bigram_counts)\n",
    "                \n",
    "    \n",
    "#     if next_prob:\n",
    "#         return(max(next_prob, key=next_prob.get))\n",
    "#     else:\n",
    "#         return bigram_guesser(mask, guessed, counts=bigram_counts)\n",
    "    \n",
    "\n",
    "###\n",
    "# Your answer ENDS HERE\n",
    "###\n",
    "\n",
    "result = test_guesser(my_ai_guesser)\n",
    "print()\n",
    "print(\"Average number of incorrect guesses: \", result)"
   ]
  },
  {
   "cell_type": "markdown",
   "metadata": {},
   "source": [
    "**Instructions:** Explain your approach and discuss your result below. Please keep it brief."
   ]
  },
  {
   "cell_type": "code",
   "execution_count": null,
   "metadata": {},
   "outputs": [],
   "source": []
  }
 ],
 "metadata": {
  "anaconda-cloud": {},
  "kernelspec": {
   "display_name": "Python 3",
   "language": "python",
   "name": "python3"
  },
  "language_info": {
   "codemirror_mode": {
    "name": "ipython",
    "version": 3
   },
   "file_extension": ".py",
   "mimetype": "text/x-python",
   "name": "python",
   "nbconvert_exporter": "python",
   "pygments_lexer": "ipython3",
   "version": "3.7.2"
  }
 },
 "nbformat": 4,
 "nbformat_minor": 1
}
